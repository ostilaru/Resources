{
 "cells": [
  {
   "cell_type": "markdown",
   "metadata": {},
   "source": [
    "# 88 Merge Sorted Array\n",
    "## 1. 暴力法\n",
    "直接将 nums2 合并到 nums1 的尾部，然后直接排序\n",
    "时间复杂度：O((m+n)log⁡(m+n))。 排序序列长度为 m+n，套用快速排序的时间复杂度即可。\n",
    "空间复杂度：O(log⁡(m+n))。 排序序列长度为 m+n，套用快速排序的空间复杂度即可。\n",
    "\n",
    "\n",
    "## 2. 双指针法\n",
    "时间复杂度：O(m+n)\n",
    "空间复杂度：O(m+n), 需要建立长度为 m + n 的辅助数组\n",
    "\n",
    "## 3. 逆向双指针\n",
    "方法二中，之所以要使用临时变量，是因为如果直接合并到数组 nums1 中，nums1 中的元素可能会在取出之前被覆盖。那么如何直接避免覆盖 nums1 中的元素呢？观察可知，nums1 的后半部分是空的，可以直接覆盖而不会影响结果。因此可以指针设置为从后向前遍历，每次取两者之中的较大者放进 nums1 的最后面。\n",
    "\n",
    "严格来说，在此遍历过程中的任意一个时刻，nums1 数组中有 m - p1 - 1 元素已经合并到 nums1 的后半部分，nums2 数组中有 n - p2 - 1 元素已经合并到 num1，而在指针 p1 后面，有 m + n - p1 - 1 个位置。\n",
    "由于 m + n - p1 - 1 >= m - p1 - 1 + n - p2 - 1 \n",
    "由于 p2 >= -1 恒成立"
   ]
  },
  {
   "cell_type": "code",
   "execution_count": 6,
   "metadata": {},
   "outputs": [
    {
     "name": "stdout",
     "output_type": "stream",
     "text": [
      "[1, 2, 2, 3, 5, 6]\n",
      "[1, 2, 2, 3, 5, 6]\n"
     ]
    }
   ],
   "source": [
    "# 自己的第一想法：双指针法\n",
    "class Solution(object):\n",
    "    def merge(self, nums1, m, nums2, n):\n",
    "        \"\"\"\n",
    "        :type nums1: List[int]\n",
    "        :type m: int\n",
    "        :type nums2: List[int]\n",
    "        :type n: int\n",
    "        :rtype: None Do not return anything, modify nums1 in-place instead.\n",
    "        \"\"\"\n",
    "        nums_tmp = []\n",
    "        i = 0\n",
    "        j = 0\n",
    "        while i < m and j < n:\n",
    "            if(nums1[i] < nums2[j]):\n",
    "                nums_tmp.append(nums1[i])\n",
    "                i += 1\n",
    "            else:\n",
    "                nums_tmp.append(nums2[j])\n",
    "                j += 1\n",
    "            \n",
    "        while i < m:\n",
    "            nums_tmp.append(nums1[i])\n",
    "            i += 1\n",
    "        while j < n:\n",
    "            nums_tmp.append(nums2[j])\n",
    "            j += 1\n",
    "        \n",
    "        nums1[:len(nums_tmp)] = nums_tmp\n",
    "\n",
    "solution = Solution()\n",
    "nums1 = [1,2,3,0,0,0]\n",
    "nums2 = [2,5,6]\n",
    "m = 3\n",
    "n = 3\n",
    "solution.merge(nums1, m, nums2, n)\n",
    "\n",
    "print(nums1)"
   ]
  },
  {
   "cell_type": "code",
   "execution_count": 8,
   "metadata": {},
   "outputs": [
    {
     "name": "stdout",
     "output_type": "stream",
     "text": [
      "[1, 2, 2, 3, 5, 6]\n"
     ]
    }
   ],
   "source": [
    "# 逆向双指针法\n",
    "class Solution(object):\n",
    "    def merge(self, nums1, m, nums2, n):\n",
    "        \"\"\"\n",
    "        :type nums1: List[int]\n",
    "        :type m: int\n",
    "        :type nums2: List[int]\n",
    "        :type n: int\n",
    "        :rtype: None Do not return anything, modify nums1 in-place instead.\n",
    "        \"\"\"\n",
    "        p1, p2 = m - 1, n - 1\n",
    "        tail = m + n - 1\n",
    "        while p1 >= 0 and p2 >= 0:\n",
    "            if nums1[p1] > nums2[p2]:\n",
    "                nums1[tail] = nums1[p1]\n",
    "                p1 -= 1\n",
    "                tail -= 1\n",
    "            else:\n",
    "                nums1[tail] = nums2[p2]\n",
    "                p2 -= 1\n",
    "                tail -= 1\n",
    "        \n",
    "        while p1 >= 0:\n",
    "            nums1[tail] = nums1[p1]\n",
    "            p1 -= 1\n",
    "            tail -= 1\n",
    "        while p2 >= 0:\n",
    "            nums1[tail] = nums2[p2]\n",
    "            p2 -= 1\n",
    "            tail -= 1\n",
    "\n",
    "solution = Solution()\n",
    "nums1 = [1,2,3,0,0,0]\n",
    "nums2 = [2,5,6]\n",
    "m = 3\n",
    "n = 3\n",
    "solution.merge(nums1, m, nums2, n)\n",
    "print(nums1)\n"
   ]
  },
  {
   "cell_type": "markdown",
   "metadata": {},
   "source": [
    "# 27 remove elem\n"
   ]
  },
  {
   "cell_type": "code",
   "execution_count": 11,
   "metadata": {},
   "outputs": [
    {
     "name": "stdout",
     "output_type": "stream",
     "text": [
      "2 [3, 3]\n"
     ]
    }
   ],
   "source": [
    "class Solution(object):\n",
    "    def removeElement(self, nums, val):\n",
    "        \"\"\"\n",
    "        :type nums: List[int]\n",
    "        :type val: int\n",
    "        :rtype: int\n",
    "        \"\"\"\n",
    "        while val in nums:\n",
    "            nums.remove(val)\n",
    "        return len(nums)\n",
    "    \n",
    "solution = Solution()\n",
    "nums = [3,2,2,3]\n",
    "val = 2\n",
    "cnt = solution.removeElement(nums, val)\n",
    "print(cnt, nums)"
   ]
  },
  {
   "cell_type": "markdown",
   "metadata": {},
   "source": [
    "# 80 删除有序数组中的重复项 II\n",
    "\n",
    "给你一个有序数组 nums ，请你 原地 删除重复出现的元素，使得出现次数超过两次的元素只出现两次 ，返回删除后数组的新长度。"
   ]
  },
  {
   "cell_type": "code",
   "execution_count": null,
   "metadata": {},
   "outputs": [],
   "source": [
    "# 我的第一思路：计数\n",
    "class Solution(object):\n",
    "    def removeDuplicates(self, nums):\n",
    "        \"\"\"\n",
    "        :type nums: List[int]\n",
    "        :rtype: int\n",
    "        \"\"\"\n",
    "        left = 1\n",
    "        elem = nums[0]\n",
    "        cnt = 1\n",
    "        for right in range(1, len(nums)):\n",
    "            if nums[right - 1] == nums[right] and cnt == 1:\n",
    "                cnt += 1\n",
    "                nums[left] = nums[right]\n",
    "                left += 1\n",
    "            elif nums[right - 1] == nums[right] and cnt == 2:\n",
    "                pass\n",
    "            else:\n",
    "                nums[left] = nums[right]\n",
    "                left += 1\n",
    "                cnt = 1\n",
    "            right += 1\n",
    "        return left\n",
    "                "
   ]
  },
  {
   "cell_type": "markdown",
   "metadata": {},
   "source": [
    "因为本题要求相同元素最多出现两次而非一次，所以我们需要检查上上个应该被保留的元素 `nums[left-2]` 是否和当前待检查元素 `nums[right]` 相同。当且仅当 `nums[left−2] = nums[right]` 时，当前待检查元素 `nums[left]` 不应该被保留（因为此时必然有 `nums[left−2] = nums[right−1] = nums[right]`。最后，`left` 即为处理好的数组的长度。\n"
   ]
  },
  {
   "cell_type": "code",
   "execution_count": null,
   "metadata": {},
   "outputs": [],
   "source": [
    "# 题解思路：双指针\n",
    "class Solution(object):\n",
    "    def removeDuplicates(self, nums):\n",
    "        \"\"\"\n",
    "        :type nums: List[int]\n",
    "        :rtype: int\n",
    "        \"\"\"\n",
    "        if len(nums) <= 2:\n",
    "            return len(nums)\n",
    "        left, right = 2, 2\n",
    "        while right < len(nums):\n",
    "            if nums[left - 2] != nums[right]:\n",
    "                nums[left] = nums[right]\n",
    "                left += 1\n",
    "            right += 1\n",
    "        return left"
   ]
  },
  {
   "cell_type": "markdown",
   "metadata": {},
   "source": [
    "# 189 轮转数组\n",
    "给定一个整数数组 nums，将数组中的元素向右轮转 k 个位置，其中 k 是非负数。"
   ]
  },
  {
   "cell_type": "code",
   "execution_count": 9,
   "metadata": {},
   "outputs": [
    {
     "name": "stdout",
     "output_type": "stream",
     "text": [
      "[5, 6, 7, 1, 2, 3, 4]\n",
      "[5, 6, 7, 1, 2, 3, 4]\n"
     ]
    }
   ],
   "source": [
    "class Solution(object):\n",
    "    def rotate(self, nums, k):\n",
    "        \"\"\"\n",
    "        :type nums: List[int]\n",
    "        :type k: int\n",
    "        :rtype: None Do not return anything, modify nums in-place instead.\n",
    "        \"\"\"\n",
    "        n = len(nums)\n",
    "        newNums = [None] * n\n",
    "        for i in range(n):\n",
    "            newNums[(i + k) % n] = nums[i]\n",
    "        nums[:] = newNums\n",
    "        print(nums)\n",
    "    \n",
    "solution = Solution()\n",
    "nums = [1,2,3,4,5,6,7]\n",
    "k = 3\n",
    "solution.rotate(nums, k)\n",
    "print(nums)\n",
    "        "
   ]
  },
  {
   "cell_type": "code",
   "execution_count": 13,
   "metadata": {},
   "outputs": [
    {
     "name": "stdout",
     "output_type": "stream",
     "text": [
      "[[0, -7], [0, -1], [4, -1], [4, -1], [5, -1], [5, -1]]\n",
      "5\n"
     ]
    }
   ],
   "source": [
    "class Solution(object):\n",
    "    def maxProfit(self, prices):\n",
    "        \"\"\"\n",
    "        :type prices: List[int]\n",
    "        :rtype: int\n",
    "        \"\"\"\n",
    "        n = len(prices)\n",
    "        if n <= 1:\n",
    "            return 0\n",
    "        dp = [[0, 0] for _ in range(n)]\n",
    "        # 0 means not hold, 1 means hold\n",
    "        dp[0][0] = 0\n",
    "        dp[0][1] = -prices[0]\n",
    "        for i in range(1, n):\n",
    "            dp[i][0] = max(dp[i - 1][1] + prices[i], dp[i - 1][0])\n",
    "            dp[i][1] = max(- prices[i], dp[i - 1][1])\n",
    "        print(dp)\n",
    "        return dp[n - 1][0]\n",
    "    \n",
    "prices = [7,1,5,3,6,4]\n",
    "solution = Solution()\n",
    "print(solution.maxProfit(prices))"
   ]
  },
  {
   "cell_type": "code",
   "execution_count": 8,
   "metadata": {},
   "outputs": [
    {
     "name": "stdout",
     "output_type": "stream",
     "text": [
      "Expected number of circles: 1.0102051554122065\n"
     ]
    }
   ],
   "source": [
    "def expected_circles(k):\n",
    "    if k == 1:\n",
    "        return 1\n",
    "    else:\n",
    "        return 1 + (1/(k-1)) * expected_circles(k-1)\n",
    "\n",
    "expected_circles_count = expected_circles(100)\n",
    "print(\"Expected number of circles:\", expected_circles_count)"
   ]
  },
  {
   "cell_type": "code",
   "execution_count": 111,
   "metadata": {},
   "outputs": [
    {
     "name": "stdout",
     "output_type": "stream",
     "text": [
      "None\n",
      "-1.0\n",
      "0.17407765595569785\n",
      "0.26919095102908275\n",
      "-0.03102028528246745\n",
      "0.6553575995895197\n"
     ]
    }
   ],
   "source": [
    "class EWMACalculator:\n",
    "    def __init__(self, X, Y, alpha, shift):\n",
    "        self.alpha = alpha\n",
    "        self.shift = shift\n",
    "        self.X = []\n",
    "        self.Y = []\n",
    "        self.ewmX = X[0]\n",
    "        self.ewmY = Y[0]\n",
    "        self.ewmXX = X[0] * X[0]\n",
    "        self.ewmYY = Y[0] * Y[0]\n",
    "        self.ewmXY = X[0] * Y[0]\n",
    "        self.map = {}\n",
    "\n",
    "    def update_statistics(self, X_new, Y_new):\n",
    "        # print(\"ewmX={}, ewmXX={}, ewmY={}, ewmYY={}, ewmXY={}\".format(self.ewmX, self.ewmXX, self.ewmY, self.ewmYY, self.ewmXY))\n",
    "        # 窗口未满\n",
    "        if len(self.X) == self.shift:\n",
    "            print(self.X)\n",
    "            print(self.Y)\n",
    "            X_old = self.X.pop(0)\n",
    "            Y_old = self.Y.pop(0)\n",
    "\n",
    "            self.X.append(X_new)\n",
    "            self.Y.append(Y_new)\n",
    "\n",
    "            exp = (1 - self.alpha) ** (self.shift - 1)\n",
    "            self.ewmX = (self.ewmX - (1 - self.alpha)**exp * X_old) * (1/self.alpha - 1) + self.alpha * X_new\n",
    "            self.ewmY = (self.ewmY - (1 - self.alpha)**exp * Y_old) * (1/self.alpha - 1) + self.alpha * Y_new\n",
    "            self.ewmXX = (self.ewmXX - (1 - self.alpha)**exp * X_old * X_old) * (1/self.alpha - 1) + self.alpha * X_new * X_new\n",
    "            self.ewmYY = (self.ewmYY - (1 - self.alpha)**exp * Y_old * Y_old) * (1/self.alpha - 1) + self.alpha * Y_new * Y_new\n",
    "            self.ewmXY = (self.ewmXY - (1 - self.alpha)**exp * X_old * Y_old) * (1/self.alpha - 1) + self.alpha * X_new * Y_new\n",
    "            \n",
    "        else:\n",
    "            # 添加新的数据点\n",
    "            # exp = (1 - self.alpha) ** (len(self.X) - 1)\n",
    "            # print(len(self.X))\n",
    "            # print(self.X)\n",
    "            # self.X.append(X_new)\n",
    "            # self.Y.append(Y_new)\n",
    "            # self.ewmX = exp * self.ewmX + self.alpha * X_new\n",
    "            # self.ewmY = exp * self.ewmY + self.alpha * Y_new \n",
    "            # self.ewmXX = exp * self.ewmXX + self.alpha * (X_new * X_new)\n",
    "            # self.ewmYY = exp * self.ewmYY + self.alpha * (Y_new * Y_new)\n",
    "            # self.ewmXY = exp * self.ewmXY + self.alpha * (X_new * Y_new)\n",
    "            self.ewmX = (1 - self.alpha) * self.ewmX + self.alpha * X_new\n",
    "            self.ewmY = (1 - self.alpha) * self.ewmY + self.alpha * Y_new \n",
    "            self.ewmXX = (1 - self.alpha) * self.ewmXX + self.alpha * (X_new * X_new)\n",
    "            self.ewmYY = (1 - self.alpha) * self.ewmYY + self.alpha * (Y_new * Y_new)\n",
    "            self.ewmXY = (1 - self.alpha) * self.ewmXY + self.alpha * (X_new * Y_new)\n",
    "        \n",
    "        # print(\"sumX={}, sumY={}, sumXX={}, sumYY={}, sumXY={}\".format(self.sumX, self.sumY, self.sumXX, self.sumYY, self.sumXY))\n",
    "\n",
    "    def calculate_ewmCorr(self):\n",
    "        # 计算均值和方差\n",
    "        var_x = self.ewmXX - self.ewmX * self.ewmX\n",
    "        var_y = self.ewmYY - self.ewmY * self.ewmY\n",
    "        \n",
    "        # 添加检查，确保分母不为零\n",
    "        if var_x == 0 or var_y == 0:\n",
    "            return None\n",
    "        \n",
    "        # 计算协方差\n",
    "        # cov_XY = (self.sumXY / len(self.X)) - (mean_X * mean_Y)\n",
    "        cov_xy = self.ewmXY - self.ewmX * self.ewmY\n",
    "        \n",
    "        # 计算加权移动相关系数\n",
    "        # ewmCorr = cov_XY / (var_X**0.5 * var_Y**0.5)\n",
    "        ewmCorr = cov_xy / (var_x * var_y) ** 0.5\n",
    "\n",
    "        # 记录在map中\n",
    "        self.map[len(self.X)] = ewmCorr\n",
    "        # print(ewmCorr)\n",
    "        return ewmCorr\n",
    "\n",
    "\n",
    "# 示例\n",
    "# A = [1, 2, 3, 4, 2, 0, 5, 11, 33, 20, 10, 23]\n",
    "# B = [10, 11, 13, 16, 2, 1, 5, 1, 3, 20, 10, 23]\n",
    "A = [1, 2, 2, 1, 3, 1]\n",
    "B = [3, 2, 4, 3, 3, 1]\n",
    "ewma_calculator = EWMACalculator(A, B, alpha=0.5, shift=100)\n",
    "\n",
    "# print(ewma_calculator.getWeightSum(4))\n",
    "\n",
    "for i in range(len(A)):\n",
    "    ewma_calculator.update_statistics(A[i], B[i])\n",
    "    ewmCorr = ewma_calculator.calculate_ewmCorr()\n",
    "    print(ewmCorr)\n",
    "    # print(f\"map[{i}]: {ewma_calculator.map.get(i+1)}\")\n",
    "\n",
    "# print(ewma_calculator.map)\n"
   ]
  },
  {
   "cell_type": "code",
   "execution_count": 98,
   "metadata": {},
   "outputs": [
    {
     "data": {
      "text/plain": [
       "0         NaN\n",
       "1   -1.000000\n",
       "2    0.132453\n",
       "3    0.264135\n",
       "4   -0.038514\n",
       "5    0.672097\n",
       "dtype: float64"
      ]
     },
     "execution_count": 98,
     "metadata": {},
     "output_type": "execute_result"
    }
   ],
   "source": [
    "import pandas as pd\n",
    "\n",
    "A = pd.Series([1, 2, 3, 4, 2, 0, 5, 11, 33, 20, 10, 23])\n",
    "B = pd.Series([10, 11, 13, 16, 2, 1, 5, 1, 3, 20, 10, 23])\n",
    "\n",
    "A = pd.Series([1, 2, 2, 1, 3, 1])\n",
    "B = pd.Series([3, 2, 4, 3, 3, 1])\n",
    "\n",
    "A.ewm(alpha=0.5).corr(B)"
   ]
  },
  {
   "cell_type": "code",
   "execution_count": 73,
   "metadata": {},
   "outputs": [
    {
     "name": "stdout",
     "output_type": "stream",
     "text": [
      "1.875\n",
      "1\n",
      "0.9864400504156210830046504544\n",
      "0.9804268502069608741071504548\n",
      "0.7889469674170288804695453516\n",
      "0.8364473592814972675295286442\n",
      "0.4601432524826999176005505352\n",
      "-0.3833037122116815788776800508\n",
      "-0.05841497801109601063830334767\n",
      "-0.01311320728180140480762608940\n",
      "0.06083894255795574031582392160\n",
      "0.4862735438645523701199921830\n"
     ]
    }
   ],
   "source": [
    "from decimal import Decimal\n",
    "\n",
    "class EWMACalculator:\n",
    "    def __init__(self, X, Y, alpha, shift):\n",
    "        self.alpha = Decimal(alpha)  # 将alpha转为Decimal类型\n",
    "        self.shift = shift\n",
    "        self.X = []\n",
    "        self.Y = []\n",
    "        self.ewmX = Decimal(X[0])  # 将X[0]转为Decimal类型\n",
    "        self.ewmY = Decimal(Y[0])  # 将Y[0]转为Decimal类型\n",
    "        self.ewmXX = Decimal(X[0] * X[0])  # 将X[0] * X[0]转为Decimal类型\n",
    "        self.ewmYY = Decimal(Y[0] * Y[0])  # 将Y[0] * Y[0]转为Decimal类型\n",
    "        self.ewmXY = Decimal(X[0] * Y[0])  # 将X[0] * Y[0]转为Decimal类型\n",
    "        self.map = {}\n",
    "\n",
    "    def update_statistics(self, X_new, Y_new):\n",
    "        if len(self.X) == self.shift:\n",
    "            X_old = Decimal(self.X.pop(0))  # 将X_old转为Decimal类型\n",
    "            Y_old = Decimal(self.Y.pop(0))  # 将Y_old转为Decimal类型\n",
    "\n",
    "            self.X.append(X_new)\n",
    "            self.Y.append(Y_new)\n",
    "\n",
    "            exp = (Decimal(1) - self.alpha) ** (self.shift - 1)\n",
    "            self.ewmX = (self.ewmX - (Decimal(1) - self.alpha)**exp * X_old) * (Decimal(1)/self.alpha - Decimal(1)) + self.alpha * Decimal(X_new)\n",
    "            self.ewmY = (self.ewmY - (Decimal(1) - self.alpha)**exp * Y_old) * (Decimal(1)/self.alpha - Decimal(1)) + self.alpha * Decimal(Y_new)\n",
    "            self.ewmXX = (self.ewmXX - (Decimal(1) - self.alpha)**exp * X_old * X_old) * (Decimal(1)/self.alpha - Decimal(1)) + self.alpha * Decimal(X_new * X_new)\n",
    "            self.ewmYY = (self.ewmYY - (Decimal(1) - self.alpha)**exp * Y_old * Y_old) * (Decimal(1)/self.alpha - Decimal(1)) + self.alpha * Decimal(Y_new * Y_new)\n",
    "            self.ewmXY = (self.ewmXY - (Decimal(1) - self.alpha)**exp * X_old * Y_old) * (Decimal(1)/self.alpha - Decimal(1)) + self.alpha * Decimal(X_new * Y_new)\n",
    "            \n",
    "        else:\n",
    "            self.X.append(X_new)\n",
    "            self.Y.append(Y_new)\n",
    "            self.ewmX = (Decimal(1) - self.alpha) * self.ewmX + self.alpha * Decimal(X_new)\n",
    "            self.ewmY = (Decimal(1) - self.alpha) * self.ewmY + self.alpha * Decimal(Y_new) \n",
    "            self.ewmXX = (Decimal(1) - self.alpha) * self.ewmXX + self.alpha * Decimal(X_new * X_new)\n",
    "            self.ewmYY = (Decimal(1) - self.alpha) * self.ewmYY + self.alpha * Decimal(Y_new * Y_new)\n",
    "            self.ewmXY = (Decimal(1) - self.alpha) * self.ewmXY + self.alpha * Decimal(X_new * Y_new)\n",
    "\n",
    "    def getWeightSum(self, n):\n",
    "        total = Decimal(0)\n",
    "        for i in range(n):\n",
    "            total += (Decimal(1) - self.alpha)**i\n",
    "        return total\n",
    "\n",
    "    def calculate_ewmCorr(self):\n",
    "        var_x = self.ewmXX - self.ewmX * self.ewmX\n",
    "        var_y = self.ewmYY - self.ewmY * self.ewmY\n",
    "        \n",
    "        if var_x == 0 or var_y == 0:\n",
    "            return None\n",
    "        \n",
    "        cov_xy = self.ewmXY - self.ewmX * self.ewmY\n",
    "        ewmCorr = cov_xy / (var_x.sqrt() * var_y.sqrt())\n",
    "\n",
    "        self.map[len(self.X)] = ewmCorr\n",
    "\n",
    "        print(ewmCorr)\n",
    "\n",
    "        return ewmCorr\n",
    "\n",
    "# 示例\n",
    "A = [1, 2, 3, 4, 2, 0, 5, 11, 33, 20, 10, 23]\n",
    "B = [10, 11, 13, 16, 2, 1, 5, 1, 3, 20, 10, 23]\n",
    "ewma_calculator = EWMACalculator(A, B, alpha=0.5, shift=100)\n",
    "\n",
    "print(ewma_calculator.getWeightSum(4))\n",
    "\n",
    "for i in range(len(A)):\n",
    "    ewma_calculator.update_statistics(A[i], B[i])\n",
    "    ewmCorr = ewma_calculator.calculate_ewmCorr()\n",
    "    # print(ewmCorr)\n",
    "    # print(f\"map[{i}]: {ewma_calculator.map.get(i+1)}\")\n",
    "\n",
    "# print(ewma_calculator.map)\n",
    "\n"
   ]
  },
  {
   "cell_type": "markdown",
   "metadata": {},
   "source": [
    "0          NaN\n",
    "1     1.000000\n",
    "2     0.984495\n",
    "3     0.981196\n",
    "4     0.847724\n",
    "5     0.846435\n",
    "6     0.476001\n",
    "7    -0.376149\n",
    "8    -0.050623\n",
    "9    -0.013474\n",
    "10    0.060784\n",
    "11    0.486140\n",
    "dtype: float64\n",
    "\n",
    "1.875\n",
    "1\n",
    "0.9864400504156210830046504544\n",
    "0.9804268502069608741071504548\n",
    "0.7889469674170288804695453516\n",
    "0.8364473592814972675295286442\n",
    "0.4601432524826999176005505352\n",
    "-0.3833037122116815788776800508\n",
    "-0.05841497801109601063830334767\n",
    "-0.01311320728180140480762608940\n",
    "0.06083894255795574031582392160\n",
    "0.4862735438645523701199921830"
   ]
  }
 ],
 "metadata": {
  "kernelspec": {
   "display_name": "Python 3",
   "language": "python",
   "name": "python3"
  },
  "language_info": {
   "codemirror_mode": {
    "name": "ipython",
    "version": 3
   },
   "file_extension": ".py",
   "mimetype": "text/x-python",
   "name": "python",
   "nbconvert_exporter": "python",
   "pygments_lexer": "ipython3",
   "version": "3.9.12"
  }
 },
 "nbformat": 4,
 "nbformat_minor": 2
}
