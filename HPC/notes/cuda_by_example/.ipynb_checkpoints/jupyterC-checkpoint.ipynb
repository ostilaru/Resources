{
 "cells": [
  {
   "cell_type": "code",
   "execution_count": 1,
   "id": "bbb2233e",
   "metadata": {
    "vscode": {
     "languageId": "cpp"
    }
   },
   "outputs": [
    {
     "data": {
      "text/markdown": [
       "Hello world!\n"
      ]
     },
     "metadata": {},
     "output_type": "display_data"
    }
   ],
   "source": [
    "//// 1.cpp\n",
    "#include <stdio.h>\n",
    "\n",
    "int main() {\n",
    "    printf(\"Hello world!\\n\");\n",
    "}\n",
    "\n",
    "\n"
   ]
  },
  {
   "cell_type": "code",
   "execution_count": 2,
   "id": "1f92366d",
   "metadata": {
    "vscode": {
     "languageId": "cpp"
    }
   },
   "outputs": [
    {
     "data": {
      "text/markdown": [
       "hello cpp kernel \n"
      ]
     },
     "metadata": {},
     "output_type": "display_data"
    }
   ],
   "source": [
    "#include<iostream>\n",
    "\n",
    "std::cout << \"hello cpp kernel \" << std::endl;"
   ]
  },
  {
   "cell_type": "code",
   "execution_count": 3,
   "id": "f9677530",
   "metadata": {
    "vscode": {
     "languageId": "cpp"
    }
   },
   "outputs": [
    {
     "data": {
      "text/markdown": [
       "5"
      ]
     },
     "metadata": {},
     "output_type": "display_data"
    }
   ],
   "source": [
    "namespace samplenamespace {\n",
    "    int value() { return 5; }\n",
    "    int getMax(int a, int b) {\n",
    "        return a > b ? a : b;\n",
    "    }\n",
    "}\n",
    "\n",
    "int main() {\n",
    "    std::cout << samplenamespace::value() << std::endl;\n",
    "    std::cout << samplenamespace::getMax(1, 3) << std::endl;\n",
    "}"
   ]
  },
  {
   "cell_type": "code",
   "execution_count": null,
   "id": "bbf60668",
   "metadata": {
    "vscode": {
     "languageId": "cpp"
    }
   },
   "outputs": [],
   "source": [
    "std::cout << getMax(1, 2) << std::endl;"
   ]
  }
 ],
 "metadata": {
  "kernelspec": {
   "display_name": "C++ 14",
   "language": "cpp",
   "name": "cpp14"
  },
  "language_info": {
   "file_extension": ".cpp",
   "mimetype": "text/markdown",
   "name": "text/markdown"
  }
 },
 "nbformat": 4,
 "nbformat_minor": 5
}
