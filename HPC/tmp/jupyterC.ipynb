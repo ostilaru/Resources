{
 "cells": [
  {
   "cell_type": "code",
   "execution_count": null,
   "id": "bbb2233e",
   "metadata": {
    "vscode": {
     "languageId": "c"
    }
   },
   "outputs": [],
   "source": [
    "#include <stdio.h>\n",
    "\n",
    "int main () {\n",
    "    printf(\"Hello world!\\n\");\n",
    "    printf(\"Hello world!\\n\");\n",
    "    return 0;\n",
    "}"
   ]
  }
 ],
 "metadata": {
  "kernelspec": {
   "display_name": "C++ 14",
   "language": "cpp",
   "name": "cpp14"
  },
  "language_info": {
   "file_extension": ".cpp",
   "mimetype": "text/markdown",
   "name": "text/markdown"
  }
 },
 "nbformat": 4,
 "nbformat_minor": 5
}
